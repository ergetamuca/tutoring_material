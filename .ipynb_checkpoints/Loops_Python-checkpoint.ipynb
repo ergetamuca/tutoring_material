{
 "cells": [
  {
   "cell_type": "markdown",
   "metadata": {},
   "source": [
    "## Loops in Python"
   ]
  },
  {
   "cell_type": "markdown",
   "metadata": {},
   "source": [
    "### For Loops"
   ]
  },
  {
   "cell_type": "markdown",
   "metadata": {},
   "source": [
    "For loops iterate over a given sequence."
   ]
  },
  {
   "cell_type": "code",
   "execution_count": null,
   "metadata": {},
   "outputs": [],
   "source": [
    "#iterate through a string\n",
    "for letter in 'Ergeta':\n",
    "    print(letter)"
   ]
  },
  {
   "cell_type": "code",
   "execution_count": null,
   "metadata": {},
   "outputs": [],
   "source": [
    "#looping through a list\n",
    "prime_no = [2, 3, 5, 7]\n",
    "for prime in prime_no:\n",
    "    print(prime)"
   ]
  },
  {
   "cell_type": "code",
   "execution_count": null,
   "metadata": {},
   "outputs": [],
   "source": [
    "#iterate over a sequence range\n",
    "for x in range(5):\n",
    "    print(x)"
   ]
  },
  {
   "cell_type": "code",
   "execution_count": null,
   "metadata": {},
   "outputs": [],
   "source": [
    "#iterate over sequence and only output num+2\n",
    "for x in range(3, 8, 2):\n",
    "    print(x)"
   ]
  },
  {
   "cell_type": "code",
   "execution_count": null,
   "metadata": {},
   "outputs": [],
   "source": [
    "#iterate through list of lists\n",
    "grocery_items=[['apple','strawberry','banana'],\n",
    "               ['broccoli','zucchini','butternut squash'],\n",
    "               ['rice','pasta','anchovies','coconut milk']]\n",
    "\n",
    "#iterate through lists\n",
    "for item in grocery_items:\n",
    "    print(item)\n",
    "    \n",
    "#iterates through all list items within each list\n",
    "for item in grocery_items:\n",
    "    for i in item:\n",
    "        print(i)"
   ]
  },
  {
   "cell_type": "code",
   "execution_count": null,
   "metadata": {},
   "outputs": [],
   "source": [
    "#iterate through and get the third item of each list within grocery_items\n",
    "for item in grocery_items:\n",
    "    print(item[2])"
   ]
  },
  {
   "cell_type": "code",
   "execution_count": null,
   "metadata": {},
   "outputs": [],
   "source": [
    "#iterate through the grocery_items list and find the length of all sub lists\n",
    "for item in grocery_items:\n",
    "    print(len(item))"
   ]
  },
  {
   "cell_type": "code",
   "execution_count": null,
   "metadata": {},
   "outputs": [],
   "source": [
    "#operations within list\n",
    "grocery_prices=[['apples',3],\n",
    "                ['bananas',2],\n",
    "                ['broccoli',2]]\n",
    "\n",
    "#calculate the average grocery prices\n",
    "total_price=0\n",
    "for item in grocery_prices:\n",
    "    price=item[1]\n",
    "    total_price+=price\n",
    "\n",
    "#get out of for loop to do final calculation\n",
    "nr_items=len(grocery_prices)\n",
    "print(total_price/nr_items)"
   ]
  },
  {
   "cell_type": "markdown",
   "metadata": {},
   "source": [
    "### While Loops"
   ]
  },
  {
   "cell_type": "markdown",
   "metadata": {},
   "source": [
    "While loops repeat as long as a certain boolean condition is met."
   ]
  },
  {
   "cell_type": "code",
   "execution_count": null,
   "metadata": {},
   "outputs": [],
   "source": [
    "count = 0\n",
    "while count < 5:\n",
    "    print(count)\n",
    "    count += 1  # This is the same as count = count + 1"
   ]
  },
  {
   "cell_type": "markdown",
   "metadata": {},
   "source": [
    "break is used to exit a for loop or a while loop, \n",
    "whereas continue is used to skip the current block, and return to the \"for\" or \"while\" statement. "
   ]
  },
  {
   "cell_type": "code",
   "execution_count": null,
   "metadata": {},
   "outputs": [],
   "source": [
    "for x in range(10):\n",
    "    # Check if x is even\n",
    "    if x % 2 == 0:\n",
    "        continue\n",
    "    print(x)"
   ]
  },
  {
   "cell_type": "code",
   "execution_count": null,
   "metadata": {},
   "outputs": [],
   "source": [
    "name_list=['Ergeta','Bryan','Carlos','Toby']\n",
    "for name in name_list:\n",
    "    if name == 'Carlos':\n",
    "        break #stops the loop\n",
    "    print(name)"
   ]
  },
  {
   "cell_type": "code",
   "execution_count": null,
   "metadata": {},
   "outputs": [],
   "source": [
    "name_list=['Ergeta','Bryan','Carlos','Toby']\n",
    "for name in name_list:\n",
    "    if name == 'Carlos':\n",
    "        continue #continues the loop skipping Carlos\n",
    "    print(name)"
   ]
  },
  {
   "cell_type": "code",
   "execution_count": 9,
   "metadata": {},
   "outputs": [
    {
     "name": "stdout",
     "output_type": "stream",
     "text": [
      "['Ergeta', 'Bryan', 'Toby']\n"
     ]
    }
   ],
   "source": [
    "#create a new list from name_list with all names except Carlos\n",
    "name_list=['Ergeta','Bryan','Carlos','Toby']\n",
    "#initialize the new list\n",
    "new_list=[]\n",
    "\n",
    "for name in name_list:\n",
    "    if name =='Carlos':\n",
    "        continue\n",
    "    new_list.append(name)\n",
    "    \n",
    "print(new_list)"
   ]
  },
  {
   "cell_type": "markdown",
   "metadata": {},
   "source": [
    "### Else Statements"
   ]
  },
  {
   "cell_type": "code",
   "execution_count": null,
   "metadata": {},
   "outputs": [],
   "source": [
    "count=0\n",
    "while(count<5):\n",
    "    print(count)\n",
    "    count +=1\n",
    "else:\n",
    "    print(\"Counting complete\")"
   ]
  },
  {
   "cell_type": "code",
   "execution_count": 10,
   "metadata": {},
   "outputs": [
    {
     "name": "stdout",
     "output_type": "stream",
     "text": [
      "APAN Program\n",
      "Econ Policy Program\n",
      "Non Applicable\n",
      "Non Applicable\n"
     ]
    }
   ],
   "source": [
    "name_list=['Ergeta','Bryan','Carlos','Toby']\n",
    "\n",
    "for name in name_list:\n",
    "    if name=='Ergeta':\n",
    "        print(\"APAN Program\")\n",
    "    elif name=='Bryan':\n",
    "        print(\"Econ Policy Program\")\n",
    "    else:\n",
    "        print(\"Non Applicable\")"
   ]
  }
 ],
 "metadata": {
  "kernelspec": {
   "display_name": "Python 3",
   "language": "python",
   "name": "python3"
  },
  "language_info": {
   "codemirror_mode": {
    "name": "ipython",
    "version": 3
   },
   "file_extension": ".py",
   "mimetype": "text/x-python",
   "name": "python",
   "nbconvert_exporter": "python",
   "pygments_lexer": "ipython3",
   "version": "3.7.3"
  }
 },
 "nbformat": 4,
 "nbformat_minor": 4
}
