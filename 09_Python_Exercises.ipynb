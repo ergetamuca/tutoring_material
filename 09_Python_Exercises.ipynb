{
 "cells": [
  {
   "cell_type": "markdown",
   "metadata": {},
   "source": [
    "### Practice Exercises"
   ]
  },
  {
   "cell_type": "markdown",
   "metadata": {},
   "source": [
    "#### String Manipulations"
   ]
  },
  {
   "cell_type": "code",
   "execution_count": 1,
   "metadata": {},
   "outputs": [],
   "source": [
    "#Write a program to count the number of characters (character frequency) in a string\n",
    "##Example:\n",
    "#String : 'Applied Analytics'\n",
    "#Expected Result : {'a':3, 'p':2, 'l':2, 'i':2, 'e':1, 'd':1, 'n':1, 'y':1, 't':1, 'c':1, 's':1}\n",
    "\n",
    "#hint: create the data structure as dictionary"
   ]
  },
  {
   "cell_type": "code",
   "execution_count": null,
   "metadata": {},
   "outputs": [],
   "source": [
    "#Write a program to get a string from a given string where all \n",
    "#occurrences of the string have been changed to '$'\n",
    "\n",
    "#Example:\n",
    "#String: \"Hello World, Hello World\"\n",
    "#substring: \"He\"\n",
    "#Expected Result: \"$llo World, $llo World\""
   ]
  },
  {
   "cell_type": "markdown",
   "metadata": {},
   "source": [
    "#### List Manipulations"
   ]
  },
  {
   "cell_type": "code",
   "execution_count": 2,
   "metadata": {},
   "outputs": [],
   "source": [
    "#Write a program to remove duplicates from a list"
   ]
  },
  {
   "cell_type": "code",
   "execution_count": 3,
   "metadata": {},
   "outputs": [],
   "source": [
    "#Write a function that takes two lists and returns True if they have at least one common member."
   ]
  },
  {
   "cell_type": "markdown",
   "metadata": {},
   "source": [
    "#### Loops"
   ]
  },
  {
   "cell_type": "code",
   "execution_count": 4,
   "metadata": {},
   "outputs": [],
   "source": [
    "#Write a program to count the number of even and odd numbers from a list of numbers\n",
    "#List: [1,2,3,4,5,6,7]\n",
    "#Expected Result:\n",
    "            #Odd Numbers: 4\n",
    "            #Even Numbers: 3"
   ]
  },
  {
   "cell_type": "code",
   "execution_count": 5,
   "metadata": {},
   "outputs": [],
   "source": [
    "#Write a program which iterates the integers from 1 to 30. If integer is odd, substitute that integer \n",
    "#with the string \"Hello\".\n",
    "#Example:\n",
    "#Input: integer ranged 1-30.\n",
    "#Output: \"Hello\", 2, \"Hello\", 4, \"Hello\"....\n",
    "\n",
    "#hint: use the range()"
   ]
  },
  {
   "cell_type": "code",
   "execution_count": 6,
   "metadata": {},
   "outputs": [],
   "source": [
    "#Write a program that can calculate the number of digits and letters in a string.\n",
    "#Example:\n",
    "#String: \"This is my 35 year old son.\"\n",
    "#Output: \n",
    "    #Number of digits: \n",
    "    #Number of letters: "
   ]
  }
 ],
 "metadata": {
  "kernelspec": {
   "display_name": "Python 3",
   "language": "python",
   "name": "python3"
  },
  "language_info": {
   "codemirror_mode": {
    "name": "ipython",
    "version": 3
   },
   "file_extension": ".py",
   "mimetype": "text/x-python",
   "name": "python",
   "nbconvert_exporter": "python",
   "pygments_lexer": "ipython3",
   "version": "3.7.3"
  }
 },
 "nbformat": 4,
 "nbformat_minor": 4
}
